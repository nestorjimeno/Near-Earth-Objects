{
  "nbformat": 4,
  "nbformat_minor": 0,
  "metadata": {
    "colab": {
      "provenance": [],
      "authorship_tag": "ABX9TyPs2lVOmNr9OUN8xKlxJHuC",
      "include_colab_link": true
    },
    "kernelspec": {
      "name": "python3",
      "display_name": "Python 3"
    },
    "language_info": {
      "name": "python"
    }
  },
  "cells": [
    {
      "cell_type": "markdown",
      "metadata": {
        "id": "view-in-github",
        "colab_type": "text"
      },
      "source": [
        "<a href=\"https://colab.research.google.com/github/nestorjimeno/Near-Earth-Objects/blob/master/Ecowitt.ipynb\" target=\"_parent\"><img src=\"https://colab.research.google.com/assets/colab-badge.svg\" alt=\"Open In Colab\"/></a>"
      ]
    },
    {
      "cell_type": "markdown",
      "source": [
        "# **Obtención de datos de la API de Ecowitt**"
      ],
      "metadata": {
        "id": "VfMQlalIDYu2"
      }
    },
    {
      "cell_type": "markdown",
      "source": [
        "- 5 minutes resolution data within the past 90 days, each data request time span should not be longer than a complete day.\n",
        "- 30 minutes resolution data within the past 365 days, each data request time span should not be longer than a complete week.\n",
        "- 240 minutes resolution data within the past 730 days, each data request time span should not be longer than a complete month.\n",
        "- 24hours resolution data since 2019.1.1, each data request time span should not be longer than a complete year."
      ],
      "metadata": {
        "id": "FCu0_ElfOQis"
      }
    },
    {
      "cell_type": "markdown",
      "source": [
        "Inicializo las constantes que necesito para acceder a la API e importo las librerías que necesito."
      ],
      "metadata": {
        "id": "JJcn_GH1EvBK"
      }
    },
    {
      "cell_type": "markdown",
      "source": [],
      "metadata": {
        "id": "Hy2iXptRBR8B"
      }
    },
    {
      "cell_type": "code",
      "execution_count": null,
      "metadata": {
        "id": "Pi6czSA9DVHA"
      },
      "outputs": [],
      "source": [
        "import requests\n",
        "import pandas as pd\n",
        "from datetime import datetime, timedelta\n",
        "\n",
        "\n",
        "APPLICATION_KEY='A943A57F2E8977048B04A7E37C083ECA'\n",
        "API_KEY='3af577b2-379d-467a-b7ca-19e4592121b6'\n",
        "MAC='C4:5B:BE:6D:ED:BB'\n",
        "URL='https://api.ecowitt.net/api/v3/device/history'"
      ]
    },
    {
      "cell_type": "markdown",
      "source": [
        "Defino la clase Device:"
      ],
      "metadata": {
        "id": "BPCwXSSqE4qE"
      }
    },
    {
      "cell_type": "code",
      "source": [
        "class Device():\n",
        "    def __init__(self, mac=MAC):\n",
        "        self.mac = mac\n",
        "        self.latitude, self.longitude = self.get_location()\n",
        "\n",
        "    def get_location(self):\n",
        "        params = {\n",
        "            'application_key': APPLICATION_KEY,\n",
        "            'api_key': API_KEY,\n",
        "            'mac': self.mac\n",
        "        }\n",
        "        try:\n",
        "            response = requests.get(\n",
        "                url='https://api.ecowitt.net/api/v3/device/info',\n",
        "                params=params\n",
        "            )\n",
        "            response.raise_for_status()\n",
        "            data = response.json()\n",
        "            latitude = data['data']['latitude']\n",
        "            longitude = data['data']['longitude']\n",
        "            return latitude, longitude\n",
        "        except requests.exceptions.RequestException as e:\n",
        "            print(f\"Error en la solicitud: {e}\")\n",
        "            return None, None\n",
        "        except KeyError as e:\n",
        "            print(f\"Error al procesar la respuesta: {e}\")\n",
        "            return None, None\n",
        "\n",
        "    def get_data(self,\n",
        "                start_date,\n",
        "                end_date,\n",
        "                call_back='outdoor,indoor,solar_and_uvi,rainfall,wind,pressure',\n",
        "                cycle_type='5min',\n",
        "                temp_unitid=1,\n",
        "                pressure_unitid=5,\n",
        "                wind_speed_unitid=7,\n",
        "                rainfall_unitid=12,):\n",
        "\n",
        "        params = {\n",
        "            'application_key': APPLICATION_KEY,\n",
        "            'api_key': API_KEY,\n",
        "            'mac': self.mac,\n",
        "            'start_date':self.convert_date(start_date),\n",
        "            'end_date': self.convert_date(end_date),\n",
        "            'call_back': call_back ,\n",
        "            'cycle_type': cycle_type ,\n",
        "            'temp_unitid': temp_unitid ,\n",
        "            'pressure_unitid': pressure_unitid ,\n",
        "            'wind_speed_unitid': wind_speed_unitid ,\n",
        "            'rainfall_unitid': rainfall_unitid\n",
        "        }\n",
        "        try:\n",
        "            response = requests.get(\n",
        "                url='https://api.ecowitt.net/api/v3/device/history',\n",
        "                params=params\n",
        "            )\n",
        "            response.raise_for_status()\n",
        "            data = response.json()\n",
        "            return data\n",
        "        except requests.exceptions.RequestException as e:\n",
        "            print(f\"Error en la solicitud: {e}\")\n",
        "            return None\n",
        "        except KeyError as e:\n",
        "            print(f\"Error al procesar la respuesta: {e}\")\n",
        "            return None\n",
        "\n",
        "\n",
        "    def convert_date(self, date_str):\n",
        "        formats = ['%d/%m/%Y %H:%M', '%Y-%m-%d %H:%M', '%d/%m/%Y']\n",
        "        output_format = '%Y-%m-%d %H:%M'\n",
        "\n",
        "        for fmt in formats:\n",
        "            try:\n",
        "                # Intentar convertir la cadena de entrada a un objeto datetime usando el formato actual\n",
        "                dt = datetime.strptime(date_str, fmt)\n",
        "                # Convertir el objeto datetime al formato de salida\n",
        "                return dt.strftime(output_format)\n",
        "            except ValueError:\n",
        "                # Si el formato no coincide, intentar el siguiente\n",
        "                continue\n",
        "\n",
        "        # Si ninguno de los formatos coincide, retornar un mensaje de error\n",
        "        return \"Error: No se pudo analizar la fecha con los formatos proporcionados.\"\n"
      ],
      "metadata": {
        "id": "2tmh0kerE_eC"
      },
      "execution_count": null,
      "outputs": []
    },
    {
      "cell_type": "markdown",
      "source": [
        "Inicializo el dispositivo."
      ],
      "metadata": {
        "id": "h9_b6FHqR_7f"
      }
    },
    {
      "cell_type": "code",
      "source": [
        "dev = Device()"
      ],
      "metadata": {
        "id": "J6LlsriOL1wR"
      },
      "execution_count": null,
      "outputs": []
    },
    {
      "cell_type": "markdown",
      "source": [
        "## Obtención de los datos de un año"
      ],
      "metadata": {
        "id": "HNkOI-EQTFIu"
      }
    },
    {
      "cell_type": "code",
      "source": [
        "data_dict = dev.get_data('2024-01-01 00:00', '27/08/2024 23:00')"
      ],
      "metadata": {
        "id": "2u2-p3iDUsnM"
      },
      "execution_count": null,
      "outputs": []
    },
    {
      "cell_type": "code",
      "source": [
        "data_dict.keys()"
      ],
      "metadata": {
        "colab": {
          "base_uri": "https://localhost:8080/"
        },
        "id": "LYNhA_gIfF13",
        "outputId": "f06590e0-cde1-4654-bcca-bfd8fc48b0dd"
      },
      "execution_count": null,
      "outputs": [
        {
          "output_type": "execute_result",
          "data": {
            "text/plain": [
              "dict_keys(['code', 'msg', 'time', 'data'])"
            ]
          },
          "metadata": {},
          "execution_count": 213
        }
      ]
    },
    {
      "cell_type": "code",
      "source": [
        "data_dict['data'].keys()"
      ],
      "metadata": {
        "colab": {
          "base_uri": "https://localhost:8080/"
        },
        "id": "pF7MGJnmfJUq",
        "outputId": "70047192-9c97-490f-c1f3-7f7e254e6f0c"
      },
      "execution_count": null,
      "outputs": [
        {
          "output_type": "execute_result",
          "data": {
            "text/plain": [
              "dict_keys(['outdoor', 'indoor', 'solar_and_uvi', 'rainfall', 'wind', 'pressure'])"
            ]
          },
          "metadata": {},
          "execution_count": 214
        }
      ]
    },
    {
      "cell_type": "code",
      "source": [
        "o = data_dict['data']['outdoor'].keys()\n",
        "i = data_dict['data']['indoor'].keys()\n",
        "s = data_dict['data']['solar_and_uvi'].keys()\n",
        "r = data_dict['data']['rainfall'].keys()\n",
        "w = data_dict['data']['wind'].keys()"
      ],
      "metadata": {
        "id": "byK1U_64fLN2"
      },
      "execution_count": null,
      "outputs": []
    },
    {
      "cell_type": "code",
      "source": [
        "print(o)\n",
        "print(i)\n",
        "print(s)\n",
        "print(r)\n",
        "print(w)"
      ],
      "metadata": {
        "colab": {
          "base_uri": "https://localhost:8080/"
        },
        "id": "hFCA05ohgxOH",
        "outputId": "c648d088-3e75-43bd-8d54-a9ea8d224e85"
      },
      "execution_count": null,
      "outputs": [
        {
          "output_type": "stream",
          "name": "stdout",
          "text": [
            "dict_keys(['temperature', 'feels_like', 'app_temp', 'dew_point', 'humidity'])\n",
            "dict_keys(['temperature', 'humidity'])\n",
            "dict_keys(['solar', 'uvi'])\n",
            "dict_keys(['rain_rate', 'daily', 'event', 'hourly', 'weekly', 'monthly', 'yearly'])\n",
            "dict_keys(['wind_speed', 'wind_gust', 'wind_direction'])\n"
          ]
        }
      ]
    },
    {
      "cell_type": "code",
      "source": [
        "for item in o:\n",
        "    print(len(data_dict['data']['outdoor'][item]['list']))\n",
        "for item in i:\n",
        "    print(len(data_dict['data']['indoor'][item]['list']))\n",
        "for item in s:\n",
        "    print(len(data_dict['data']['solar_and_uvi'][item]['list']))\n",
        "for item in r:\n",
        "    print(len(data_dict['data']['rainfall'][item]['list']))\n",
        "for item in w:\n",
        "    print(len(data_dict['data']['wind'][item]['list']))"
      ],
      "metadata": {
        "colab": {
          "base_uri": "https://localhost:8080/"
        },
        "id": "tgqVN7EFgzme",
        "outputId": "2653e534-e0ee-414b-f673-1c8ad1fc1e6e"
      },
      "execution_count": null,
      "outputs": [
        {
          "output_type": "stream",
          "name": "stdout",
          "text": [
            "240\n",
            "240\n",
            "240\n",
            "240\n",
            "240\n",
            "240\n",
            "240\n",
            "240\n",
            "240\n",
            "240\n",
            "240\n",
            "240\n",
            "240\n",
            "240\n",
            "240\n",
            "240\n",
            "240\n",
            "240\n",
            "240\n"
          ]
        }
      ]
    },
    {
      "cell_type": "code",
      "source": [],
      "metadata": {
        "id": "0s5FwmX5g9xm"
      },
      "execution_count": null,
      "outputs": []
    }
  ]
}